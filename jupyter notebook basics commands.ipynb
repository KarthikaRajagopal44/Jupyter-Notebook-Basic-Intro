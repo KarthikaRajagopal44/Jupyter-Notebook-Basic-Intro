{
 "cells": [
  {
   "cell_type": "code",
   "execution_count": null,
   "id": "b96ad399-552e-4104-9c56-1ce212d7b41c",
   "metadata": {},
   "outputs": [],
   "source": [
    "Introduction to Jupyter Notebook"
   ]
  },
  {
   "cell_type": "code",
   "execution_count": null,
   "id": "19dd391b-8419-4a33-aad5-21141e5a2ec3",
   "metadata": {},
   "outputs": [],
   "source": [
    "# the 'blue' color outside the cell = COMMAND MODE\n",
    "# the 'green' color outside the cell = EDIT MODE\n",
    "# the 'esc' button takes from EDIT MODE to COMMAND MODE\n",
    "# the 'enter' button takes from COMMAND MODE to EDIT MODE\n",
    "# the 'P' button view the list of all available commands"
   ]
  },
  {
   "cell_type": "code",
   "execution_count": 1,
   "id": "c33ebb83-cb07-431d-8b13-6f728315242d",
   "metadata": {},
   "outputs": [
    {
     "name": "stdin",
     "output_type": "stream",
     "text": [
      "ENTER YOYR NAME:  Karthika Rajagopal\n"
     ]
    },
    {
     "name": "stdout",
     "output_type": "stream",
     "text": [
      "Hello,  Karthika Rajagopal\n"
     ]
    }
   ],
   "source": [
    "# print 'hello <name>' as first python coding program\n",
    "\n",
    "name = input('ENTER YOYR NAME: ')\n",
    "print('Hello, ',name)\n",
    "\n",
    "# 'shift + enter' to execute the cell"
   ]
  },
  {
   "cell_type": "code",
   "execution_count": 4,
   "id": "070c505d-dfe9-4be0-aa5c-4cbf04bcd19d",
   "metadata": {},
   "outputs": [
    {
     "ename": "SyntaxError",
     "evalue": "invalid syntax (1224686982.py, line 1)",
     "output_type": "error",
     "traceback": [
      "\u001b[1;36m  Cell \u001b[1;32mIn[4], line 1\u001b[1;36m\u001b[0m\n\u001b[1;33m    When the cell is in COMMAND MODE i.e. 'blue' in color and if press 'M' the cell comes into MARKDOWN and there can write any type of text like:\u001b[0m\n\u001b[1;37m         ^\u001b[0m\n\u001b[1;31mSyntaxError\u001b[0m\u001b[1;31m:\u001b[0m invalid syntax\n"
     ]
    }
   ],
   "source": [
    "When the cell is in COMMAND MODE i.e. 'blue' in color and if press 'M' the cell comes into MARKDOWN and there can write any type of text like:\n",
    "--> # for tittle --> ## for the main headings --> ### for the subheadings --> #### for the smaller subheadings --> ##### for the italic subheadings\n",
    "\n",
    "string or string for bold_text string or string for italic text\n",
    "\n",
    "MONOSPACE FONTS like:--> (`) i.e. to highlight any text in the notebook have to use `after and before` any text.\n",
    "\n",
    "\n"
   ]
  },
  {
   "cell_type": "code",
   "execution_count": 12,
   "id": "a4621b7b-123a-4aa5-a2db-5a6d1330cd49",
   "metadata": {},
   "outputs": [
    {
     "ename": "SyntaxError",
     "evalue": "invalid syntax (2947303253.py, line 5)",
     "output_type": "error",
     "traceback": [
      "\u001b[1;36m  Cell \u001b[1;32mIn[12], line 5\u001b[1;36m\u001b[0m\n\u001b[1;33m    - My name is **Karthika Rajagopal**.<br>\u001b[0m\n\u001b[1;37m         ^\u001b[0m\n\u001b[1;31mSyntaxError\u001b[0m\u001b[1;31m:\u001b[0m invalid syntax\n"
     ]
    }
   ],
   "source": [
    "after and before\n",
    "\n",
    "LINE BREAKER denoted by \"<br>\"..\"<br>\"at the end of the line example... \"<br>\"..my name is karthika Rajagopal \"<br>\"..i live in bangalore \"<br>\"..this is my first python practice\n",
    "\n"
   ]
  },
  {
   "cell_type": "code",
   "execution_count": null,
   "id": "ce2a5cca-c1bb-4e8a-a666-ad2b1548343b",
   "metadata": {},
   "outputs": [],
   "source": [
    "my name is karthika Rajagopal\n",
    "i live in bangalore\n",
    "this is my first python practice\n",
    "\n",
    "note: (\" \\ \") this backslash reduces the power of either ` or \"<br>\"..\n",
    "\n",
    "for indentation in text will use : > or >> or >>> and goes on\n",
    "> my name is karthika\n",
    ">> i live in bangalore\n",
    ">>> my first python program\n",
    "\n",
    "my name is karthika\n",
    "\n",
    "i live in bangalore\n",
    "\n",
    "my first python program\n",
    "\n",
    "bullets and numbering in text be like using\n",
    "\"- \" --> deash and space creates a bullet\n",
    "\\TAB with dash and space creates a sub-bullet\n",
    "\\number followed by dot and a space creates numbering\n",
    "\\TAB number followed by dot and space creates alphabets from 1 to 26 i.e. a to z in capital\n",
    "\n",
    "bullte\n",
    "sub bullet\n",
    "numbering\n",
    "numbering two 3. numbering three\n",
    "COLORING\n",
    "\n",
    "blue color written as \"<font color = blue> blue color </font>\"\n",
    "red color\n",
    "TO ADD AN IMAGE\n",
    "\n",
    "\"<img src = \"image_url\">\"\n",
    "\n",
    "copy the image and directly paste the link\n"
   ]
  },
  {
   "cell_type": "code",
   "execution_count": null,
   "id": "09d86cd1-1275-4c03-8628-b63bbd46ee4d",
   "metadata": {},
   "outputs": [],
   "source": [
    "LaTeX Equations written as with $ sign on either side of the equation\n",
    "\n",
    " (a/2+ 2/a)=(1/50a)= written as \"$(a/2 +2/a) = (1/50a)$\"\n",
    "\n",
    " \n",
    " (a1/a2)= written as \"$(\\frac{a_1}{a_2})$\"\n",
    "\n",
    " a^3/5 = written as \"$a_5^3$\"\n",
    "\n",
    "to learn LaTeX = https://en.wikibooks.org/wiki/LaTeX/Mathematics"
   ]
  },
  {
   "cell_type": "code",
   "execution_count": null,
   "id": "06b5f843-ca10-47e9-9bfe-bc6bf212e624",
   "metadata": {},
   "outputs": [],
   "source": [
    "Basic Commands"
   ]
  },
  {
   "cell_type": "code",
   "execution_count": null,
   "id": "3725e6b9-930b-4c80-80c0-69dff7b8ff1b",
   "metadata": {},
   "outputs": [],
   "source": [
    "That was all about markdown cells. Now let us take a look at the most useful commands that you require every day while coding in the Jupyter notebook.\n",
    "\n",
    "Command Mode Shortcuts\n",
    "Esc: To go into command mode\n",
    "Enter: To go back to edit mode\n",
    "M: To convert a cell to a markdown cell\n",
    "Y: To convert a cell back to a code cell\n",
    "A: To insert new cell above\n",
    "B: To insert new cell below\n",
    "D + D: To delete cell\n",
    "Z: Undo the last operation\n",
    "F: To find and replace on your code\n",
    "Shift + Up/Down: To select multiple cells\n",
    "Space: Scroll notebook downwards\n",
    "Shift + Space: Scroll notebook upwards"
   ]
  },
  {
   "cell_type": "code",
   "execution_count": null,
   "id": "760b052c-e03f-409b-b934-7b369b67627c",
   "metadata": {},
   "outputs": [],
   "source": [
    "Edit Mode Shortcuts\n",
    "Shift + Enter: To execute the code in the current cell and go to the next cell\n",
    "Alt + Enter: To execute the code in the current cell and insert new cell below\n",
    "Shift + Tab: To get brief documentation of the object that you have just typed in the coding cell\n",
    "Ctrl + Shift + -: To split the cell at cursor\n",
    "Shift + M: To merge selected cells\n",
    "Apart from this, you can also use H to open the list of keyboard shortcuts and even add new shortcuts or customize the existing shortcuts according to your personal requirements."
   ]
  }
 ],
 "metadata": {
  "kernelspec": {
   "display_name": "Python 3 (ipykernel)",
   "language": "python",
   "name": "python3"
  },
  "language_info": {
   "codemirror_mode": {
    "name": "ipython",
    "version": 3
   },
   "file_extension": ".py",
   "mimetype": "text/x-python",
   "name": "python",
   "nbconvert_exporter": "python",
   "pygments_lexer": "ipython3",
   "version": "3.12.4"
  }
 },
 "nbformat": 4,
 "nbformat_minor": 5
}
